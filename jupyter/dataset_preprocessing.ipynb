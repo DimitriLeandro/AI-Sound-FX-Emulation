{
 "cells": [
  {
   "attachments": {},
   "cell_type": "markdown",
   "metadata": {},
   "source": [
    "# Guitar Chords v2 dataset preprocessing\n",
    "\n",
    "Mono\n",
    "\n",
    "16 kHz\n",
    "\n",
    "PCM16"
   ]
  },
  {
   "cell_type": "code",
   "execution_count": 1,
   "metadata": {},
   "outputs": [],
   "source": [
    "from pathlib import Path\n",
    "import soundfile as sf\n",
    "import librosa\n",
    "import numpy as np"
   ]
  },
  {
   "cell_type": "code",
   "execution_count": 2,
   "metadata": {},
   "outputs": [],
   "source": [
    "original_dataset_path = Path('../datasets/guitar_chords_v2/original_test_set/audio_files/')\n",
    "output_dataset_path = Path('../datasets/guitar_chords_v2/preprocessed_original/audio_files/')\n",
    "lst_audio_paths = list(original_dataset_path.iterdir())"
   ]
  },
  {
   "cell_type": "code",
   "execution_count": 3,
   "metadata": {},
   "outputs": [],
   "source": [
    "target_sr  = 16000\n",
    "target_pcm = 'PCM_16'\n",
    "\n",
    "for filepath in lst_audio_paths:\n",
    "    y, orig_sr = librosa.load(filepath)\n",
    "    y = y[0] if y.ndim>1 else y\n",
    "    y = librosa.resample(y, orig_sr=orig_sr, target_sr=target_sr)\n",
    "    sf.write(output_dataset_path/filepath.name, y, target_sr, target_pcm)\n",
    "    break"
   ]
  },
  {
   "cell_type": "code",
   "execution_count": null,
   "metadata": {},
   "outputs": [],
   "source": []
  }
 ],
 "metadata": {
  "kernelspec": {
   "display_name": "venv_tg",
   "language": "python",
   "name": "python3"
  },
  "language_info": {
   "codemirror_mode": {
    "name": "ipython",
    "version": 3
   },
   "file_extension": ".py",
   "mimetype": "text/x-python",
   "name": "python",
   "nbconvert_exporter": "python",
   "pygments_lexer": "ipython3",
   "version": "3.10.11"
  },
  "orig_nbformat": 4
 },
 "nbformat": 4,
 "nbformat_minor": 2
}
