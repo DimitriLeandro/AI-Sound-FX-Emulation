{
 "cells": [
  {
   "cell_type": "markdown",
   "metadata": {},
   "source": [
    "## Comparison between original FX with Impulse Response emulation"
   ]
  },
  {
   "cell_type": "markdown",
   "metadata": {},
   "source": [
    "This Jupyter Notebook aims to compare the original fx results with the IR emulation results for each FX. The metrics used for comparison are described in this file."
   ]
  },
  {
   "cell_type": "code",
   "execution_count": 2,
   "metadata": {},
   "outputs": [],
   "source": [
    "import matplotlib.pyplot as plt\n",
    "import json\n",
    "import librosa\n",
    "from pathlib import Path\n",
    "from numpy import random\n",
    "from IPython.display import Audio"
   ]
  },
  {
   "cell_type": "code",
   "execution_count": null,
   "metadata": {},
   "outputs": [],
   "source": []
  },
  {
   "cell_type": "code",
   "execution_count": 25,
   "metadata": {},
   "outputs": [],
   "source": [
    "original_fx_dataset_path = Path('../datasets/guitar_chords_v2/fx/audio_files/')\n",
    "ir_dataset_path          = Path('../datasets/guitar_chords_v2/impulse_response_emulation/audio_files/')\n",
    "fx_parameters_path       = Path('../datasets/guitar_chords_v2/fx/parameters.json')\n",
    "fx_parameters            = json.load(open(fx_parameters_path))\n",
    "lst_fx                   = list(fx_parameters['fx'].keys())"
   ]
  },
  {
   "cell_type": "code",
   "execution_count": null,
   "metadata": {},
   "outputs": [],
   "source": []
  },
  {
   "cell_type": "code",
   "execution_count": 37,
   "metadata": {},
   "outputs": [],
   "source": [
    "for fx in lst_fx:\n",
    "    for audio_fx_path in (original_fx_dataset_path/fx).iterdir():\n",
    "        audio_name    = audio_fx_path.name\n",
    "        audio_ir_path = ir_dataset_path/fx/audio_name"
   ]
  },
  {
   "cell_type": "code",
   "execution_count": 44,
   "metadata": {},
   "outputs": [],
   "source": [
    "y, sr = librosa.load(audio_ir_path)"
   ]
  },
  {
   "cell_type": "code",
   "execution_count": 47,
   "metadata": {},
   "outputs": [
    {
     "data": {
      "text/plain": [
       "2"
      ]
     },
     "execution_count": 47,
     "metadata": {},
     "output_type": "execute_result"
    }
   ],
   "source": [
    "len(y)"
   ]
  },
  {
   "cell_type": "code",
   "execution_count": 50,
   "metadata": {},
   "outputs": [
    {
     "data": {
      "text/plain": [
       "PosixPath('../datasets/guitar_chords_v2/impulse_response_emulation/audio_files/HighpassFilter/F_AcousticGuitar_RodrigoMercador_2.wav')"
      ]
     },
     "execution_count": 50,
     "metadata": {},
     "output_type": "execute_result"
    }
   ],
   "source": [
    "audio_ir_path"
   ]
  },
  {
   "cell_type": "code",
   "execution_count": 46,
   "metadata": {},
   "outputs": [
    {
     "name": "stderr",
     "output_type": "stream",
     "text": [
      "/home/dimitri/miniconda3/envs/venv_tg/lib/python3.10/site-packages/librosa/core/spectrum.py:256: UserWarning: n_fft=2048 is too large for input signal of length=2\n",
      "  warnings.warn(\n"
     ]
    },
    {
     "data": {
      "text/plain": [
       "array([[-6.92932617e+02],\n",
       "       [-1.60632543e-02],\n",
       "       [-1.34046488e-02],\n",
       "       [-1.09560005e-02],\n",
       "       [-1.02288611e-02],\n",
       "       [-1.07753817e-02],\n",
       "       [-1.18746245e-02],\n",
       "       [-1.22401584e-02],\n",
       "       [-1.18282866e-02],\n",
       "       [-1.10673690e-02],\n",
       "       [-1.09472834e-02],\n",
       "       [-1.13687236e-02],\n",
       "       [-1.18294414e-02],\n",
       "       [-1.09120663e-02],\n",
       "       [-1.06631229e-02],\n",
       "       [-1.19743627e-02],\n",
       "       [-1.32620186e-02],\n",
       "       [-1.17713287e-02],\n",
       "       [-1.01394169e-02],\n",
       "       [-1.06764957e-02]], dtype=float32)"
      ]
     },
     "execution_count": 46,
     "metadata": {},
     "output_type": "execute_result"
    }
   ],
   "source": [
    "librosa.feature.mfcc(y=y, sr=sr)"
   ]
  },
  {
   "cell_type": "code",
   "execution_count": null,
   "metadata": {},
   "outputs": [],
   "source": []
  },
  {
   "cell_type": "code",
   "execution_count": null,
   "metadata": {},
   "outputs": [],
   "source": []
  }
 ],
 "metadata": {
  "kernelspec": {
   "display_name": "Python 3.10.11 ('venv_tg')",
   "language": "python",
   "name": "python3"
  },
  "language_info": {
   "codemirror_mode": {
    "name": "ipython",
    "version": 3
   },
   "file_extension": ".py",
   "mimetype": "text/x-python",
   "name": "python",
   "nbconvert_exporter": "python",
   "pygments_lexer": "ipython3",
   "version": "3.10.11"
  },
  "orig_nbformat": 4,
  "vscode": {
   "interpreter": {
    "hash": "c097f001639198d727cefd5a65b9f5306e14478b02c7f5b3cd48b5d42997d04e"
   }
  }
 },
 "nbformat": 4,
 "nbformat_minor": 2
}
