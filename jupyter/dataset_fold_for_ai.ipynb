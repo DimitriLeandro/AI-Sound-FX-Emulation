{
 "cells": [
  {
   "cell_type": "code",
   "execution_count": 59,
   "metadata": {},
   "outputs": [],
   "source": [
    "import glob\n",
    "import librosa\n",
    "import soundfile as sf\n",
    "import numpy as np\n",
    "import json\n",
    "import os\n",
    "import tqdm"
   ]
  },
  {
   "cell_type": "code",
   "execution_count": 60,
   "metadata": {},
   "outputs": [],
   "source": [
    "SOURCE_DIR = \"../datasets/guitar_chords_v2/preprocessed_original\"\n",
    "OUTPUT_DIR = \"../datasets/guitar_chords_v2/preprocessed_original_folds\""
   ]
  },
  {
   "cell_type": "code",
   "execution_count": 61,
   "metadata": {},
   "outputs": [],
   "source": [
    "OUTPUT_AUDIO_DIR = os.path.join(OUTPUT_DIR, 'audio_files')\n",
    "\n",
    "if not os.path.exists(OUTPUT_AUDIO_DIR): \n",
    "    os.makedirs(OUTPUT_AUDIO_DIR)"
   ]
  },
  {
   "cell_type": "code",
   "execution_count": 62,
   "metadata": {},
   "outputs": [],
   "source": [
    "audio_files = sorted(glob.glob(os.path.join(SOURCE_DIR, 'audio_files/*.wav')))"
   ]
  },
  {
   "cell_type": "code",
   "execution_count": 63,
   "metadata": {},
   "outputs": [],
   "source": [
    "# spliting dataset in 5-folds\n",
    "fold_k_test  = {k:audio_files[k*64:(k+1)*64] for k in range(5)}\n",
    "fold_k_train = {k:sorted(set(audio_files) - set(fold_k_test[k])) for k in range(5)} \n",
    "\n",
    "# validating lists\n",
    "check_train, check_test = [], []\n",
    "for k in range(5):\n",
    "    assert set(fold_k_train[k] + fold_k_test[k]) == set(audio_files)\n",
    "    check_test += fold_k_test[k]\n",
    "assert set(check_test) == set(audio_files)\n",
    "\n",
    "# exporting files to json\n",
    "train_json = os.path.join(OUTPUT_DIR, 'train_folds.json')\n",
    "test_json  = os.path.join(OUTPUT_DIR, 'test_folds.json')\n",
    "\n",
    "with open(train_json, 'w') as f:\n",
    "    json.dump(fold_k_train, f)\n",
    "    \n",
    "with open(test_json, 'w') as f:\n",
    "    json.dump(fold_k_test, f)"
   ]
  },
  {
   "cell_type": "code",
   "execution_count": 64,
   "metadata": {},
   "outputs": [],
   "source": [
    "# concatenate audios from a given path list and exports to an output path\n",
    "def concatenate_audio_files(file_paths, output_file):\n",
    "    audio_data = []\n",
    "\n",
    "    for file_path in file_paths:\n",
    "        audio, sr = librosa.load(file_path, sr=None)\n",
    "        audio_data.append(audio)\n",
    "\n",
    "    # Concatenate audio clips along the time axis (axis=0)\n",
    "    concatenated_audio = np.concatenate(audio_data, axis=0)\n",
    "    \n",
    "    # Export the concatenated audio to a new file\n",
    "    sf.write(output_file, concatenated_audio, 16000, 'PCM_16')"
   ]
  },
  {
   "cell_type": "code",
   "execution_count": 65,
   "metadata": {},
   "outputs": [
    {
     "name": "stderr",
     "output_type": "stream",
     "text": [
      "100%|████████████████████████████████████████████████████████████████████████████████████| 5/5 [00:02<00:00,  1.91it/s]\n"
     ]
    }
   ],
   "source": [
    "for k in tqdm.tqdm(range(5)):\n",
    "    train_files = fold_k_train[k]\n",
    "    train_out   = os.path.join(OUTPUT_AUDIO_DIR, f\"train_fold_{k}.wav\")\n",
    "    concatenate_audio_files(train_files, train_out)\n",
    "    \n",
    "    test_files = fold_k_test[k]\n",
    "    test_out   = os.path.join(OUTPUT_AUDIO_DIR, f\"test_fold_{k}.wav\")\n",
    "    concatenate_audio_files(test_files, test_out)"
   ]
  }
 ],
 "metadata": {
  "kernelspec": {
   "display_name": "Python 3 (ipykernel)",
   "language": "python",
   "name": "python3"
  },
  "language_info": {
   "codemirror_mode": {
    "name": "ipython",
    "version": 3
   },
   "file_extension": ".py",
   "mimetype": "text/x-python",
   "name": "python",
   "nbconvert_exporter": "python",
   "pygments_lexer": "ipython3",
   "version": "3.10.8"
  }
 },
 "nbformat": 4,
 "nbformat_minor": 2
}
